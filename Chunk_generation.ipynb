{
  "nbformat": 4,
  "nbformat_minor": 0,
  "metadata": {
    "colab": {
      "provenance": [],
      "gpuType": "T4"
    },
    "kernelspec": {
      "name": "python3",
      "display_name": "Python 3"
    },
    "language_info": {
      "name": "python"
    },
    "accelerator": "GPU"
  },
  "cells": [
    {
      "cell_type": "code",
      "source": [
        "import json\n",
        "import os\n",
        "\n",
        "\n",
        "def chunk_transcript_with_timing(transcript_data, chunk_duration=300):\n",
        "    chunks = []\n",
        "    current_chunk = []\n",
        "    current_chunk_start_time = 0\n",
        "    current_chunk_end_time = 0\n",
        "\n",
        "    # Loop through each word and its timing\n",
        "    for word_info in transcript_data['results']['channels'][0]['alternatives'][0]['words']:\n",
        "        word = word_info['punctuated_word']\n",
        "        start_time = word_info['start']\n",
        "        end_time = word_info['end']\n",
        "\n",
        "        # If adding this word exceeds the chunk duration, save the current chunk and start a new one\n",
        "        if current_chunk_end_time - current_chunk_start_time >= chunk_duration:\n",
        "            chunks.append({\n",
        "                \"chunk\": \" \".join(current_chunk),\n",
        "                \"start_time\": current_chunk_start_time,\n",
        "                \"end_time\": current_chunk_end_time\n",
        "            })\n",
        "            current_chunk = []\n",
        "            current_chunk_start_time = start_time\n",
        "\n",
        "        # Add the word to the current chunk\n",
        "        current_chunk.append(word)\n",
        "        current_chunk_end_time = end_time\n",
        "\n",
        "    # Add the last chunk\n",
        "    if current_chunk:\n",
        "        chunks.append({\n",
        "            \"chunk\": \" \".join(current_chunk),\n",
        "            \"start_time\": current_chunk_start_time,\n",
        "            \"end_time\": current_chunk_end_time\n",
        "        })\n",
        "\n",
        "    return chunks\n",
        "\n",
        "\n",
        "\n",
        "def access_file(folder, chunk_folder):\n",
        "    lst = []\n",
        "    for subfolder in os.listdir(folder):\n",
        "        subfolder_path = os.path.join(folder, subfolder)\n",
        "\n",
        "        if os.path.isdir(subfolder_path):\n",
        "            files = os.listdir(subfolder_path)\n",
        "\n",
        "            transcript_file = os.path.join(subfolder_path, 'transcript.json')\n",
        "            metadata_file = os.path.join(subfolder_path, 'metadata.json')\n",
        "\n",
        "            with open(transcript_file, 'r') as file1:\n",
        "                transcript_data = json.load(file1)\n",
        "\n",
        "            with open(metadata_file, 'r') as file2:\n",
        "                metadata_data = json.load(file2)\n",
        "                title = metadata_data['title']\n",
        "\n",
        "            # Chunk the transcript\n",
        "            chunks = chunk_transcript_with_timing(transcript_data)\n",
        "\n",
        "            #saving it into a json file\n",
        "            ouptut_file_path = os.path.join(chunk_folder, f\"{title}.json\")\n",
        "            with open(ouptut_file_path, 'w') as output_file:\n",
        "                json.dump(chunks, output_file, indent= 4)\n",
        "\n",
        "\n",
        "\n",
        "#path to folder where vidoes transcripts are available\n",
        "folder = '/content/drive/MyDrive/test'\n",
        "#path to the folder where you want to save the chunks\n",
        "chunk_folder = '/content/drive/MyDrive/chunks'\n",
        "access_file(folder, chunk_folder)\n",
        "\n"
      ],
      "metadata": {
        "id": "ZHLE6-s0C2XH"
      },
      "execution_count": null,
      "outputs": []
    },
    {
      "cell_type": "code",
      "source": [],
      "metadata": {
        "id": "eUHZZ1qvTm4K"
      },
      "execution_count": null,
      "outputs": []
    }
  ]
}